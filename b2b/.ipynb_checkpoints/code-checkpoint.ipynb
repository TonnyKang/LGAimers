{
 "cells": [
  {
   "cell_type": "markdown",
   "id": "017e9265",
   "metadata": {},
   "source": [
    "# 영업 성공 여부 분류 경진대회"
   ]
  },
  {
   "cell_type": "markdown",
   "id": "acdab431",
   "metadata": {},
   "source": [
    "## 1. 데이터 확인"
   ]
  },
  {
   "cell_type": "markdown",
   "id": "2b8341e8",
   "metadata": {},
   "source": [
    "### 필수 라이브러리"
   ]
  },
  {
   "cell_type": "code",
   "execution_count": 8,
   "id": "a315cc58",
   "metadata": {},
   "outputs": [],
   "source": [
    "import pandas as pd\n",
    "import numpy as np\n",
    "from sklearn.metrics import (\n",
    "    accuracy_score,\n",
    "    confusion_matrix,\n",
    "    f1_score,\n",
    "    precision_score,\n",
    "    recall_score,\n",
    ")\n",
    "from sklearn.model_selection import train_test_split\n",
    "from sklearn.tree import DecisionTreeClassifier\n",
    "from sklearn.ensemble import RandomForestClassifier\n",
    "from sklearn.metrics import classification_report\n",
    "from sklearn.ensemble import GradientBoostingClassifier\n",
    "from sklearn.model_selection import RandomizedSearchCV\n",
    "from scipy.stats import randint\n",
    "from sklearn.pipeline import make_pipeline"
   ]
  },
  {
   "cell_type": "markdown",
   "id": "412f98cc",
   "metadata": {},
   "source": [
    "### 데이터 셋 읽어오기"
   ]
  },
  {
   "cell_type": "code",
   "execution_count": 9,
   "id": "7ada941e",
   "metadata": {},
   "outputs": [],
   "source": [
    "df_train = pd.read_csv(\"train.csv\") # 학습용 데이터\n",
    "df_test = pd.read_csv(\"submission.csv\") # 테스트 데이터(제출파일의 데이터)"
   ]
  },
  {
   "cell_type": "code",
   "execution_count": 10,
   "id": "be9af12a",
   "metadata": {},
   "outputs": [
    {
     "data": {
      "text/plain": "   bant_submit           customer_country business_unit  com_reg_ver_win_rate  \\\n0         1.00   /Quezon City/Philippines            AS              0.066667   \n1         1.00         /PH-00/Philippines            AS              0.066667   \n2         1.00            /Kolkata /India            AS              0.088889   \n3         1.00         /Bhubaneswar/India            AS              0.088889   \n4         1.00           /Hyderabad/India            AS              0.088889   \n5         1.00             /Abuja/Nigeria            AS              0.040816   \n6         0.75  /Jeddah, KSA/Saudi Arabia            AS              0.040816   \n7         1.00            /Guwahati/India            AS              0.088889   \n8         0.75     /Cebu city/Philippines            AS              0.066667   \n9         0.75     /hauz khas,delhi/India            AS              0.088889   \n\n   customer_idx          customer_type  enterprise  historical_existing_cnt  \\\n0         32160           End-Customer  Enterprise                      NaN   \n1         23122           End-Customer  Enterprise                     12.0   \n2          1755           End-Customer  Enterprise                    144.0   \n3          4919           End-Customer  Enterprise                      NaN   \n4         17126  Specifier/ Influencer  Enterprise                      NaN   \n5         16328           End-Customer         SMB                      NaN   \n6         20664           End-Customer         SMB                      NaN   \n7         17983           End-Customer         SMB                      NaN   \n8         30867  Specifier/ Influencer  Enterprise                      3.0   \n9          6084           End-Customer         SMB                      NaN   \n\n   id_strategic_ver  it_strategic_ver  ...  response_corporate  \\\n0               NaN               NaN  ...               LGEPH   \n1               NaN               NaN  ...               LGEPH   \n2               NaN               NaN  ...               LGEIL   \n3               NaN               NaN  ...               LGEIL   \n4               NaN               NaN  ...               LGEIL   \n5               NaN               NaN  ...               LGEAF   \n6               NaN               NaN  ...               LGESJ   \n7               NaN               NaN  ...               LGEIL   \n8               NaN               NaN  ...               LGEPH   \n9               NaN               NaN  ...               LGEIL   \n\n     expected_timeline  ver_cus ver_pro ver_win_rate_x ver_win_ratio_per_bu  \\\n0   less than 3 months        1       0       0.003079             0.026846   \n1   less than 3 months        1       0       0.003079             0.026846   \n2   less than 3 months        1       0       0.003079             0.026846   \n3   less than 3 months        1       0       0.003079             0.026846   \n4   less than 3 months        0       0       0.003079             0.026846   \n5   less than 3 months        1       0       0.003079             0.026846   \n6                  NaN        1       0       0.003079             0.026846   \n7   less than 3 months        1       0       0.003079             0.026846   \n8   less than 3 months        0       0       0.003079             0.026846   \n9  3 months ~ 6 months        1       0       0.003079             0.026846   \n\n        business_area business_subarea lead_owner is_converted  \n0  corporate / office      Engineering          0         True  \n1  corporate / office      Advertising          1         True  \n2  corporate / office     Construction          2         True  \n3  corporate / office      IT/Software          3         True  \n4  corporate / office              NaN          4         True  \n5  corporate / office      Engineering          5         True  \n6  corporate / office      Engineering          6         True  \n7  corporate / office    Manufacturing          7         True  \n8  corporate / office     Construction          8         True  \n9  corporate / office              NaN          9         True  \n\n[10 rows x 29 columns]",
      "text/html": "<div>\n<style scoped>\n    .dataframe tbody tr th:only-of-type {\n        vertical-align: middle;\n    }\n\n    .dataframe tbody tr th {\n        vertical-align: top;\n    }\n\n    .dataframe thead th {\n        text-align: right;\n    }\n</style>\n<table border=\"1\" class=\"dataframe\">\n  <thead>\n    <tr style=\"text-align: right;\">\n      <th></th>\n      <th>bant_submit</th>\n      <th>customer_country</th>\n      <th>business_unit</th>\n      <th>com_reg_ver_win_rate</th>\n      <th>customer_idx</th>\n      <th>customer_type</th>\n      <th>enterprise</th>\n      <th>historical_existing_cnt</th>\n      <th>id_strategic_ver</th>\n      <th>it_strategic_ver</th>\n      <th>...</th>\n      <th>response_corporate</th>\n      <th>expected_timeline</th>\n      <th>ver_cus</th>\n      <th>ver_pro</th>\n      <th>ver_win_rate_x</th>\n      <th>ver_win_ratio_per_bu</th>\n      <th>business_area</th>\n      <th>business_subarea</th>\n      <th>lead_owner</th>\n      <th>is_converted</th>\n    </tr>\n  </thead>\n  <tbody>\n    <tr>\n      <th>0</th>\n      <td>1.00</td>\n      <td>/Quezon City/Philippines</td>\n      <td>AS</td>\n      <td>0.066667</td>\n      <td>32160</td>\n      <td>End-Customer</td>\n      <td>Enterprise</td>\n      <td>NaN</td>\n      <td>NaN</td>\n      <td>NaN</td>\n      <td>...</td>\n      <td>LGEPH</td>\n      <td>less than 3 months</td>\n      <td>1</td>\n      <td>0</td>\n      <td>0.003079</td>\n      <td>0.026846</td>\n      <td>corporate / office</td>\n      <td>Engineering</td>\n      <td>0</td>\n      <td>True</td>\n    </tr>\n    <tr>\n      <th>1</th>\n      <td>1.00</td>\n      <td>/PH-00/Philippines</td>\n      <td>AS</td>\n      <td>0.066667</td>\n      <td>23122</td>\n      <td>End-Customer</td>\n      <td>Enterprise</td>\n      <td>12.0</td>\n      <td>NaN</td>\n      <td>NaN</td>\n      <td>...</td>\n      <td>LGEPH</td>\n      <td>less than 3 months</td>\n      <td>1</td>\n      <td>0</td>\n      <td>0.003079</td>\n      <td>0.026846</td>\n      <td>corporate / office</td>\n      <td>Advertising</td>\n      <td>1</td>\n      <td>True</td>\n    </tr>\n    <tr>\n      <th>2</th>\n      <td>1.00</td>\n      <td>/Kolkata /India</td>\n      <td>AS</td>\n      <td>0.088889</td>\n      <td>1755</td>\n      <td>End-Customer</td>\n      <td>Enterprise</td>\n      <td>144.0</td>\n      <td>NaN</td>\n      <td>NaN</td>\n      <td>...</td>\n      <td>LGEIL</td>\n      <td>less than 3 months</td>\n      <td>1</td>\n      <td>0</td>\n      <td>0.003079</td>\n      <td>0.026846</td>\n      <td>corporate / office</td>\n      <td>Construction</td>\n      <td>2</td>\n      <td>True</td>\n    </tr>\n    <tr>\n      <th>3</th>\n      <td>1.00</td>\n      <td>/Bhubaneswar/India</td>\n      <td>AS</td>\n      <td>0.088889</td>\n      <td>4919</td>\n      <td>End-Customer</td>\n      <td>Enterprise</td>\n      <td>NaN</td>\n      <td>NaN</td>\n      <td>NaN</td>\n      <td>...</td>\n      <td>LGEIL</td>\n      <td>less than 3 months</td>\n      <td>1</td>\n      <td>0</td>\n      <td>0.003079</td>\n      <td>0.026846</td>\n      <td>corporate / office</td>\n      <td>IT/Software</td>\n      <td>3</td>\n      <td>True</td>\n    </tr>\n    <tr>\n      <th>4</th>\n      <td>1.00</td>\n      <td>/Hyderabad/India</td>\n      <td>AS</td>\n      <td>0.088889</td>\n      <td>17126</td>\n      <td>Specifier/ Influencer</td>\n      <td>Enterprise</td>\n      <td>NaN</td>\n      <td>NaN</td>\n      <td>NaN</td>\n      <td>...</td>\n      <td>LGEIL</td>\n      <td>less than 3 months</td>\n      <td>0</td>\n      <td>0</td>\n      <td>0.003079</td>\n      <td>0.026846</td>\n      <td>corporate / office</td>\n      <td>NaN</td>\n      <td>4</td>\n      <td>True</td>\n    </tr>\n    <tr>\n      <th>5</th>\n      <td>1.00</td>\n      <td>/Abuja/Nigeria</td>\n      <td>AS</td>\n      <td>0.040816</td>\n      <td>16328</td>\n      <td>End-Customer</td>\n      <td>SMB</td>\n      <td>NaN</td>\n      <td>NaN</td>\n      <td>NaN</td>\n      <td>...</td>\n      <td>LGEAF</td>\n      <td>less than 3 months</td>\n      <td>1</td>\n      <td>0</td>\n      <td>0.003079</td>\n      <td>0.026846</td>\n      <td>corporate / office</td>\n      <td>Engineering</td>\n      <td>5</td>\n      <td>True</td>\n    </tr>\n    <tr>\n      <th>6</th>\n      <td>0.75</td>\n      <td>/Jeddah, KSA/Saudi Arabia</td>\n      <td>AS</td>\n      <td>0.040816</td>\n      <td>20664</td>\n      <td>End-Customer</td>\n      <td>SMB</td>\n      <td>NaN</td>\n      <td>NaN</td>\n      <td>NaN</td>\n      <td>...</td>\n      <td>LGESJ</td>\n      <td>NaN</td>\n      <td>1</td>\n      <td>0</td>\n      <td>0.003079</td>\n      <td>0.026846</td>\n      <td>corporate / office</td>\n      <td>Engineering</td>\n      <td>6</td>\n      <td>True</td>\n    </tr>\n    <tr>\n      <th>7</th>\n      <td>1.00</td>\n      <td>/Guwahati/India</td>\n      <td>AS</td>\n      <td>0.088889</td>\n      <td>17983</td>\n      <td>End-Customer</td>\n      <td>SMB</td>\n      <td>NaN</td>\n      <td>NaN</td>\n      <td>NaN</td>\n      <td>...</td>\n      <td>LGEIL</td>\n      <td>less than 3 months</td>\n      <td>1</td>\n      <td>0</td>\n      <td>0.003079</td>\n      <td>0.026846</td>\n      <td>corporate / office</td>\n      <td>Manufacturing</td>\n      <td>7</td>\n      <td>True</td>\n    </tr>\n    <tr>\n      <th>8</th>\n      <td>0.75</td>\n      <td>/Cebu city/Philippines</td>\n      <td>AS</td>\n      <td>0.066667</td>\n      <td>30867</td>\n      <td>Specifier/ Influencer</td>\n      <td>Enterprise</td>\n      <td>3.0</td>\n      <td>NaN</td>\n      <td>NaN</td>\n      <td>...</td>\n      <td>LGEPH</td>\n      <td>less than 3 months</td>\n      <td>0</td>\n      <td>0</td>\n      <td>0.003079</td>\n      <td>0.026846</td>\n      <td>corporate / office</td>\n      <td>Construction</td>\n      <td>8</td>\n      <td>True</td>\n    </tr>\n    <tr>\n      <th>9</th>\n      <td>0.75</td>\n      <td>/hauz khas,delhi/India</td>\n      <td>AS</td>\n      <td>0.088889</td>\n      <td>6084</td>\n      <td>End-Customer</td>\n      <td>SMB</td>\n      <td>NaN</td>\n      <td>NaN</td>\n      <td>NaN</td>\n      <td>...</td>\n      <td>LGEIL</td>\n      <td>3 months ~ 6 months</td>\n      <td>1</td>\n      <td>0</td>\n      <td>0.003079</td>\n      <td>0.026846</td>\n      <td>corporate / office</td>\n      <td>NaN</td>\n      <td>9</td>\n      <td>True</td>\n    </tr>\n  </tbody>\n</table>\n<p>10 rows × 29 columns</p>\n</div>"
     },
     "execution_count": 10,
     "metadata": {},
     "output_type": "execute_result"
    }
   ],
   "source": [
    "df_train.head(10) # 학습용 데이터 살펴보기"
   ]
  },
  {
   "cell_type": "code",
   "execution_count": 11,
   "outputs": [],
   "source": [
    "df_test.head() # 테스트 데이터 살펴보기"
   ],
   "metadata": {
    "collapsed": false
   }
  },
  {
   "cell_type": "markdown",
   "id": "af526c13",
   "metadata": {},
   "source": [
    "## 2. 데이터 전처리"
   ]
  },
  {
   "cell_type": "markdown",
   "id": "4bd47e00",
   "metadata": {},
   "source": [
    "### 레이블 인코딩"
   ]
  },
  {
   "cell_type": "code",
   "execution_count": 5,
   "outputs": [],
   "source": [
    "df_train = df_train.drop_duplicates()\n",
    "# Assuming df_train is your DataFrame\n",
    "# Replace missing values in 'customer_country' with the mode of each 'lead_owner' group\n",
    "mode_fill = df_train.groupby('lead_owner')['customer_country'].transform(lambda x: x.mode().iloc[0] if not x.mode().empty else None)\n",
    "df_train['customer_country'] = df_train['customer_country'].fillna(mode_fill)\n",
    "\n",
    "mode_fill = df_train.groupby('lead_owner')['customer_country.1'].transform(lambda x: x.mode().iloc[0] if not x.mode().empty else None)\n",
    "df_train['customer_country.1'] = df_train['customer_country.1'].fillna(mode_fill)\n",
    "# This code will fill the missing values in 'customer_country' with the mode of the corresponding 'lead_owner' group.\n",
    "# If there is no mode (i.e., all values are missing) for a specific 'lead_owner', it will remain missing.\n",
    "\n",
    "# Example:\n",
    "# Before:\n",
    "# df_train:\n",
    "#    lead_owner  customer_country\n",
    "# 0      owner1               USA\n",
    "# 1      owner2               NaN\n",
    "# 2      owner1               NaN\n",
    "# 3      owner2               NaN\n",
    "\n",
    "# After:\n",
    "# df_train:\n",
    "#    lead_owner  customer_country\n",
    "# 0      owner1               USA\n",
    "# 1      owner2               USA\n",
    "# 2      owner1               USA\n",
    "# 3      owner2               NaN  # If all values for owner2 are missing, it remains missing\n",
    "\n",
    "# Count the number of missing values in 'customer_country'\n",
    "missing_values_count = df_train['customer_country'].isnull().sum()\n",
    "\n",
    "print(\"Number of missing values in customer_country:\", missing_values_count)\n",
    "\n",
    "missing_values_count = df_train['customer_country.1'].isnull().sum()\n",
    "\n",
    "print(\"Number of missing values in customer_country.1:\", missing_values_count)\n",
    "\n",
    "# df_train.to_csv('train_customer_country_filled.csv', index=False)"
   ],
   "metadata": {
    "collapsed": false
   }
  },
  {
   "cell_type": "code",
   "execution_count": 6,
   "id": "0b42b1a1",
   "metadata": {},
   "outputs": [
    {
     "name": "stdout",
     "output_type": "stream",
     "text": [
      "bant_submit                0.000000\n",
      "customer_country           0.016560\n",
      "business_unit              0.000000\n",
      "com_reg_ver_win_rate       0.754330\n",
      "customer_idx               0.000000\n",
      "customer_type              0.741345\n",
      "enterprise                 0.000000\n",
      "historical_existing_cnt    0.768023\n",
      "id_strategic_ver           0.941921\n",
      "it_strategic_ver           0.981096\n",
      "idit_strategic_ver         0.923017\n",
      "customer_job               0.315908\n",
      "lead_desc_length           0.000000\n",
      "inquiry_type               0.015869\n",
      "product_category           0.326717\n",
      "product_subcategory        0.844264\n",
      "product_modelname          0.844365\n",
      "customer_country.1         0.016560\n",
      "customer_position          0.000000\n",
      "response_corporate         0.000000\n",
      "expected_timeline          0.520464\n",
      "ver_cus                    0.000000\n",
      "ver_pro                    0.000000\n",
      "ver_win_rate_x             0.689421\n",
      "ver_win_ratio_per_bu       0.741918\n",
      "business_area              0.689421\n",
      "business_subarea           0.906811\n",
      "lead_owner                 0.000000\n",
      "is_converted               0.000000\n",
      "dtype: float64\n"
     ]
    }
   ],
   "source": [
    "def label_encoding(series: pd.Series) -> pd.Series:\n",
    "    \"\"\"범주형 데이터를 시리즈 형태로 받아 숫자형 데이터로 변환합니다.\"\"\"\n",
    "\n",
    "    my_dict = {}\n",
    "\n",
    "    # 모든 요소를 문자열로 변환\n",
    "    series = series.astype(str)\n",
    "\n",
    "    for idx, value in enumerate(sorted(series.unique())):\n",
    "        my_dict[value] = idx\n",
    "    series = series.map(my_dict)\n",
    "\n",
    "    return series"
   ]
  },
  {
   "cell_type": "code",
   "execution_count": 7,
   "id": "881a4612",
   "metadata": {},
   "outputs": [
    {
     "ename": "SyntaxError",
     "evalue": "invalid syntax (1489476271.py, line 1)",
     "output_type": "error",
     "traceback": [
      "\u001B[0;36m  Cell \u001B[0;32mIn[7], line 1\u001B[0;36m\u001B[0m\n\u001B[0;31m    다시 학습 데이터와 제출 데이터를 분리합니다.\u001B[0m\n\u001B[0m       ^\u001B[0m\n\u001B[0;31mSyntaxError\u001B[0m\u001B[0;31m:\u001B[0m invalid syntax\n"
     ]
    }
   ],
   "source": [
    "# 레이블 인코딩할 칼럼들\n",
    "label_columns = [\n",
    "    \"customer_country\",\n",
    "    \"business_subarea\",\n",
    "    \"business_area\",\n",
    "    \"business_unit\",\n",
    "    \"customer_type\",\n",
    "    \"enterprise\",\n",
    "    \"customer_job\",\n",
    "    \"inquiry_type\",\n",
    "    \"product_category\",\n",
    "    \"product_subcategory\",\n",
    "    \"product_modelname\",\n",
    "    \"customer_country.1\",\n",
    "    \"customer_position\",\n",
    "    \"response_corporate\",\n",
    "    \"expected_timeline\",\n",
    "]\n",
    "\n",
    "print(df_train.isna().sum()/len(df_train))\n",
    "\n",
    "df_all = pd.concat([df_train[label_columns], df_test[label_columns]])\n",
    "\n",
    "for col in label_columns:\n",
    "    df_all[col] = label_encoding(df_all[col])"
   ]
  },
  {
   "cell_type": "markdown",
   "id": "3a477f93",
   "metadata": {},
   "source": [
    "다시 학습 데이터와 제출 데이터를 분리합니다."
   ]
  },
  {
   "cell_type": "code",
   "execution_count": null,
   "id": "ff10c5fb",
   "metadata": {},
   "outputs": [],
   "source": [
    "for col in label_columns:  \n",
    "    df_train[col] = df_all.iloc[: len(df_train)][col]\n",
    "    df_test[col] = df_all.iloc[len(df_train) :][col]\n",
    "\n"
   ]
  },
  {
   "cell_type": "markdown",
   "id": "d332358a",
   "metadata": {},
   "source": [
    "### 2-2. 학습, 검증 데이터 분리"
   ]
  },
  {
   "cell_type": "code",
   "execution_count": null,
   "outputs": [],
   "source": [
    "df_train.fillna(df_train.mean())"
   ],
   "metadata": {
    "collapsed": false
   }
  },
  {
   "cell_type": "code",
   "execution_count": null,
   "outputs": [],
   "source": [
    "df_train.head()"
   ],
   "metadata": {
    "collapsed": false
   }
  },
  {
   "cell_type": "code",
   "execution_count": null,
   "id": "27c9e205",
   "metadata": {},
   "outputs": [],
   "source": [
    "x_train, x_val, y_train, y_val = train_test_split(\n",
    "    df_train.drop(\"is_converted\", axis=1),\n",
    "    df_train[\"is_converted\"],\n",
    "    test_size=0.2,\n",
    "    shuffle=True,\n",
    "    random_state=400,\n",
    ")"
   ]
  },
  {
   "cell_type": "markdown",
   "id": "79ecfa9b",
   "metadata": {},
   "source": [
    "## 3. 모델 학습"
   ]
  },
  {
   "cell_type": "markdown",
   "id": "3caf257b",
   "metadata": {},
   "source": [
    "### 모델 정의 "
   ]
  },
  {
   "cell_type": "code",
   "execution_count": null,
   "id": "e4509af0",
   "metadata": {},
   "outputs": [],
   "source": [
    "#model = DecisionTreeClassifier()\n",
    "model = RandomForestClassifier(n_estimators=100, random_state=42)"
   ]
  },
  {
   "cell_type": "code",
   "execution_count": null,
   "outputs": [],
   "source": [
    "def get_clf_eval(y_test, y_pred=None):\n",
    "    confusion = confusion_matrix(y_test, y_pred, labels=[True, False])\n",
    "    accuracy = accuracy_score(y_test, y_pred)\n",
    "    precision = precision_score(y_test, y_pred, labels=[True, False])\n",
    "    recall = recall_score(y_test, y_pred)\n",
    "    F1 = f1_score(y_test, y_pred, labels=[True, False])\n",
    "\n",
    "    print(\"오차행렬:\\n\", confusion)\n",
    "    print(\"\\n정확도: {:.4f}\".format(accuracy))\n",
    "    print(\"정밀도: {:.4f}\".format(precision))\n",
    "    print(\"재현율: {:.4f}\".format(recall))\n",
    "    print(\"F1: {:.4f}\".format(F1))\n"
   ],
   "metadata": {
    "collapsed": false
   }
  },
  {
   "cell_type": "code",
   "execution_count": null,
   "outputs": [],
   "source": [
    "model.fit(x_train.fillna(0), y_train)"
   ],
   "metadata": {
    "collapsed": false
   }
  },
  {
   "cell_type": "code",
   "execution_count": null,
   "outputs": [],
   "source": [
    "pred = model.predict(x_val.fillna(0))\n",
    "get_clf_eval(y_val, pred)"
   ],
   "metadata": {
    "collapsed": false
   }
  },
  {
   "cell_type": "markdown",
   "source": [
    "### GridSearchCV를 이용한 하이퍼파라미터 튜닝"
   ],
   "metadata": {
    "collapsed": false
   }
  },
  {
   "cell_type": "code",
   "execution_count": null,
   "outputs": [],
   "source": [
    "# # 탐색할 하이퍼파라미터 설정\n",
    "# param_grid = {\n",
    "#         'criterion': ['gini', 'entropy'],\n",
    "#         'max_depth': [None, 5, 10, 15],\n",
    "#         'min_samples_split': [2, 5, 10],\n",
    "#         'min_samples_leaf': [1, 2, 4]\n",
    "#     }\n",
    "#\n",
    "# # GridSearchCV를 사용하여 최적의 하이퍼파라미터 찾기\n",
    "# grid_search = GridSearchCV(model, param_grid, cv=5, scoring='accuracy')\n",
    "# grid_search.fit(x_train.fillna(0), y_train)\n",
    "#\n",
    "# # 최적의 하이퍼파라미터 출력\n",
    "# print('최고 평균 정확도 수치 : {0:.4f}'.format(grid_search.best_score_))\n",
    "# print(\"Best Hyperparameters:\", grid_search.best_params_)"
   ],
   "metadata": {
    "collapsed": false
   }
  },
  {
   "cell_type": "code",
   "execution_count": null,
   "outputs": [],
   "source": [
    "# model = DecisionTreeClassifier(criterion='gini', max_depth=10, min_samples_leaf=4, min_samples_split=5)"
   ],
   "metadata": {
    "collapsed": false
   }
  },
  {
   "cell_type": "code",
   "execution_count": null,
   "outputs": [],
   "source": [
    "pipe = make_pipeline(\n",
    "    RandomForestClassifier( class_weight= 'balanced')\n",
    ")\n",
    "\n",
    "# 최적값을 구하고 싶은 파라미터를 정리\n",
    "dist = {\n",
    "    'randomforestclassifier__max_depth' : [3,5,10,15],\n",
    "    'randomforestclassifier__max_features' : [3,5,10],\n",
    "    'randomforestclassifier__n_estimators' : [80, 100, 150, 200]\n",
    "}\n",
    "\n",
    "# RandomizedSearchCV\n",
    "clf = RandomizedSearchCV(\n",
    "\t\tpipe,\n",
    "        param_distributions = dist,\n",
    "        n_iter = 10,  #위 조합 중 몇 개의 조합을 추출할 것인가?\n",
    "\t\tcv = 3,\n",
    "        scoring = 'f1',  # 분류문제이므로\n",
    "        verbose = 1,  # 진행상황 확인 여부\n",
    "        n_jobs=-1)\n",
    "\n",
    "clf.fit(x_train.fillna(0), y_train)\n",
    "# 이렇게 실행하면, 10*3 = 30개의 fits 진행하게 된다. 시간이 꽤오래걸림\n",
    "\n",
    "\n",
    "# 최적의 파라미터, 최고의 f1 score 찾는 방법\n",
    "print('최적의 파라미터 :', clf.best_params_)\n",
    "print('f1 score :', clf.best_score_)\n",
    "\n",
    "\n",
    "# 각 조합으로 만들어진 모델을 순위별로 나열해서 확인해보는 방법\n",
    "pd.DataFrame(clf.cv_results_).sort_values(by='rank_test_score').T\n"
   ],
   "metadata": {
    "collapsed": false
   }
  },
  {
   "cell_type": "markdown",
   "id": "cacd5ed8",
   "metadata": {},
   "source": [
    "### 모델 학습"
   ]
  },
  {
   "cell_type": "code",
   "execution_count": null,
   "id": "766d1980",
   "metadata": {},
   "outputs": [],
   "source": [
    "# model.fit(x_train.fillna(0), y_train)\n",
    "#\n",
    "# rf_clf1 = RandomForestClassifier(n_estimators = 100,\n",
    "#                                  max_depth = 12,\n",
    "#                                  random_state = 0,)\n",
    "# rf_clf1.fit(x_train.fillna(0), y_train)\n",
    "# pred = rf_clf1.predict(x_val.fillna(0))\n",
    "# print(classification_report(y_val, pred))"
   ]
  },
  {
   "cell_type": "markdown",
   "id": "6bf2de5f",
   "metadata": {},
   "source": [
    "### 모델 성능 보기"
   ]
  },
  {
   "cell_type": "code",
   "execution_count": null,
   "id": "c8871444",
   "metadata": {},
   "outputs": [],
   "source": [
    "def get_clf_eval(y_test, y_pred=None):\n",
    "    confusion = confusion_matrix(y_test, y_pred, labels=[True, False])\n",
    "    accuracy = accuracy_score(y_test, y_pred)\n",
    "    precision = precision_score(y_test, y_pred, labels=[True, False])\n",
    "    recall = recall_score(y_test, y_pred)\n",
    "    F1 = f1_score(y_test, y_pred, labels=[True, False])\n",
    "\n",
    "    print(\"오차행렬:\\n\", confusion)\n",
    "    print(\"\\n정확도: {:.4f}\".format(accuracy))\n",
    "    print(\"정밀도: {:.4f}\".format(precision))\n",
    "    print(\"재현율: {:.4f}\".format(recall))\n",
    "    print(\"F1: {:.4f}\".format(F1))"
   ]
  },
  {
   "cell_type": "code",
   "execution_count": null,
   "id": "56a86373",
   "metadata": {},
   "outputs": [],
   "source": [
    "# pred = model.predict(x_val.fillna(0))\n",
    "# pred = rf_clf1.predict(x_val.fillna(0))\n",
    "pred = model.predict(x_val.fillna(0))\n",
    "get_clf_eval(y_val, pred)"
   ]
  },
  {
   "cell_type": "code",
   "execution_count": null,
   "outputs": [],
   "source": [
    "# model.fit(x_train.fillna(0),y_train)"
   ],
   "metadata": {
    "collapsed": false
   }
  },
  {
   "cell_type": "markdown",
   "id": "7adf8300",
   "metadata": {},
   "source": [
    "## 4. 제출하기"
   ]
  },
  {
   "cell_type": "code",
   "execution_count": null,
   "outputs": [],
   "source": [
    "# # 최적의 모델로 예측\n",
    "# best_dt_model = grid_search.best_estimator_\n",
    "# y_pred = best_dt_model.predict(x_val.fillna(0))\n",
    "#\n",
    "# # 성능 평가\n",
    "# print(\"\\nClassification Report:\")\n",
    "# print(classification_report(y_val, y_pred))"
   ],
   "metadata": {
    "collapsed": false
   }
  },
  {
   "cell_type": "markdown",
   "id": "9d0b6e17",
   "metadata": {},
   "source": [
    "### 테스트 데이터 예측"
   ]
  },
  {
   "cell_type": "code",
   "execution_count": null,
   "id": "43daa73c",
   "metadata": {},
   "outputs": [],
   "source": [
    "# 예측에 필요한 데이터 분리\n",
    "x_test = df_test.drop([\"is_converted\", \"id\"], axis=1)"
   ]
  },
  {
   "cell_type": "code",
   "execution_count": null,
   "id": "d13f7a6e",
   "metadata": {},
   "outputs": [],
   "source": [
    "# test_pred = model.predict(x_test.fillna(0))\n",
    "# test_pred = rf_clf1.predict(x_test.fillna(0))\n",
    "test_pred = model.predict(x_test.fillna(0))\n",
    "\n",
    "sum(test_pred) # True로 예측된 개수"
   ]
  },
  {
   "cell_type": "markdown",
   "id": "47f18e6a",
   "metadata": {},
   "source": [
    "### 제출 파일 작성"
   ]
  },
  {
   "cell_type": "code",
   "execution_count": null,
   "id": "3128a458",
   "metadata": {},
   "outputs": [],
   "source": [
    "# 제출 데이터 읽어오기 (df_test는 전처리된 데이터가 저장됨)\n",
    "df_sub = pd.read_csv(\"submission.csv\")\n",
    "df_sub[\"is_converted\"] = test_pred\n",
    "\n",
    "# 제출 파일 저장\n",
    "df_sub.to_csv(\"submission.csv\", index=False)"
   ]
  },
  {
   "cell_type": "markdown",
   "id": "ec7867ce",
   "metadata": {},
   "source": [
    "**우측 상단의 제출 버튼을 클릭해 결과를 확인하세요**"
   ]
  },
  {
   "cell_type": "code",
   "execution_count": null,
   "id": "617449f1",
   "metadata": {},
   "outputs": [],
   "source": []
  }
 ],
 "metadata": {
  "kernelspec": {
   "display_name": "Python 3 (ipykernel)",
   "language": "python",
   "name": "python3"
  },
  "language_info": {
   "codemirror_mode": {
    "name": "ipython",
    "version": 3
   },
   "file_extension": ".py",
   "mimetype": "text/x-python",
   "name": "python",
   "nbconvert_exporter": "python",
   "pygments_lexer": "ipython3",
   "version": "3.10.13"
  }
 },
 "nbformat": 4,
 "nbformat_minor": 5
}
